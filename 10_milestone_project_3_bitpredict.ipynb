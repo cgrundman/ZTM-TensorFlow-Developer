{
  "nbformat": 4,
  "nbformat_minor": 0,
  "metadata": {
    "colab": {
      "provenance": [],
      "authorship_tag": "ABX9TyOJO9zbxq3GQczhj6s1KVIV",
      "include_colab_link": true
    },
    "kernelspec": {
      "name": "python3",
      "display_name": "Python 3"
    },
    "language_info": {
      "name": "python"
    }
  },
  "cells": [
    {
      "cell_type": "markdown",
      "metadata": {
        "id": "view-in-github",
        "colab_type": "text"
      },
      "source": [
        "<a href=\"https://colab.research.google.com/github/cgrundman/ZTM-TensorFlow-Developer/blob/main/10_milestone_project_3_bitpredict.ipynb\" target=\"_parent\"><img src=\"https://colab.research.google.com/assets/colab-badge.svg\" alt=\"Open In Colab\"/></a>"
      ]
    },
    {
      "cell_type": "markdown",
      "source": [
        "# Milestone Project 3: BitPredict 💰📈\n",
        "\n",
        "Let's write some TensorFlow code to predict the price of BitCoin based on the historical price of BitCoin.\n",
        "\n",
        "Links:\n",
        "* https://github.com/mrdbourke/tensorflow-deep-learning/\n",
        "* https://github.com/mrdbourke/tensorflow-deep-learning/blob/main/10_time_series_forecasting_in_tensorflow.ipynb"
      ],
      "metadata": {
        "id": "VBasTHrL820F"
      }
    },
    {
      "cell_type": "markdown",
      "source": [
        "## Get Data\n",
        "\n",
        "We're going to be using the historical price data of BitCoin to try and predict the future price of BitCoin, we downloaded the data from here: https://www.coindesk.com/price/bitcoin/"
      ],
      "metadata": {
        "id": "jirVMcsIJzyB"
      }
    },
    {
      "cell_type": "code",
      "source": [
        "!wget https://raw.githubusercontent.com/mrdbourke/tensorflow-deep-learning/main/extras/BTC_USD_2013-10-01_2021-05-18-CoinDesk.csv"
      ],
      "metadata": {
        "colab": {
          "base_uri": "https://localhost:8080/"
        },
        "id": "P822FQsrK6QT",
        "outputId": "272acacb-08a7-4b23-ff47-3696ec72448c"
      },
      "execution_count": 2,
      "outputs": [
        {
          "output_type": "stream",
          "name": "stdout",
          "text": [
            "--2024-08-01 09:02:00--  https://raw.githubusercontent.com/mrdbourke/tensorflow-deep-learning/main/extras/BTC_USD_2013-10-01_2021-05-18-CoinDesk.csv\n",
            "Resolving raw.githubusercontent.com (raw.githubusercontent.com)... 185.199.108.133, 185.199.111.133, 185.199.110.133, ...\n",
            "Connecting to raw.githubusercontent.com (raw.githubusercontent.com)|185.199.108.133|:443... connected.\n",
            "HTTP request sent, awaiting response... 200 OK\n",
            "Length: 178509 (174K) [text/plain]\n",
            "Saving to: ‘BTC_USD_2013-10-01_2021-05-18-CoinDesk.csv’\n",
            "\n",
            "BTC_USD_2013-10-01_ 100%[===================>] 174.33K  --.-KB/s    in 0.03s   \n",
            "\n",
            "2024-08-01 09:02:01 (5.11 MB/s) - ‘BTC_USD_2013-10-01_2021-05-18-CoinDesk.csv’ saved [178509/178509]\n",
            "\n"
          ]
        }
      ]
    },
    {
      "cell_type": "code",
      "source": [],
      "metadata": {
        "id": "pHg6wN4jLBDB"
      },
      "execution_count": null,
      "outputs": []
    }
  ]
}