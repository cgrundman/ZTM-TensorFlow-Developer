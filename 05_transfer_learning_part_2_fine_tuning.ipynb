{
  "nbformat": 4,
  "nbformat_minor": 0,
  "metadata": {
    "colab": {
      "provenance": [],
      "gpuType": "T4",
      "authorship_tag": "ABX9TyMAjtGJJEdbMNQzboBYJA89",
      "include_colab_link": true
    },
    "kernelspec": {
      "name": "python3",
      "display_name": "Python 3"
    },
    "language_info": {
      "name": "python"
    },
    "accelerator": "GPU"
  },
  "cells": [
    {
      "cell_type": "markdown",
      "metadata": {
        "id": "view-in-github",
        "colab_type": "text"
      },
      "source": [
        "<a href=\"https://colab.research.google.com/github/cgrundman/ZTM-TensorFlow-Developer/blob/main/05_transfer_learning_part_2_fine_tuning.ipynb\" target=\"_parent\"><img src=\"https://colab.research.google.com/assets/colab-badge.svg\" alt=\"Open In Colab\"/></a>"
      ]
    },
    {
      "cell_type": "markdown",
      "source": [
        "# Transfer Learning with TensorFlow Part 2: Fine-tuning\n",
        "\n",
        "In the previous notebook, we coverd transfer learning feature extraction, now it's time to learn about a new kind of transfer learning: fine-tuning."
      ],
      "metadata": {
        "id": "ROTZ1JUopAxX"
      }
    },
    {
      "cell_type": "code",
      "execution_count": 1,
      "metadata": {
        "colab": {
          "base_uri": "https://localhost:8080/"
        },
        "id": "0z_yJuhjoa8h",
        "outputId": "e7db9b87-2179-4805-adb4-b043e3493ac0"
      },
      "outputs": [
        {
          "output_type": "stream",
          "name": "stdout",
          "text": [
            "Sun Jun 23 15:09:54 2024       \n",
            "+---------------------------------------------------------------------------------------+\n",
            "| NVIDIA-SMI 535.104.05             Driver Version: 535.104.05   CUDA Version: 12.2     |\n",
            "|-----------------------------------------+----------------------+----------------------+\n",
            "| GPU  Name                 Persistence-M | Bus-Id        Disp.A | Volatile Uncorr. ECC |\n",
            "| Fan  Temp   Perf          Pwr:Usage/Cap |         Memory-Usage | GPU-Util  Compute M. |\n",
            "|                                         |                      |               MIG M. |\n",
            "|=========================================+======================+======================|\n",
            "|   0  Tesla T4                       Off | 00000000:00:04.0 Off |                    0 |\n",
            "| N/A   53C    P8              12W /  70W |      0MiB / 15360MiB |      0%      Default |\n",
            "|                                         |                      |                  N/A |\n",
            "+-----------------------------------------+----------------------+----------------------+\n",
            "                                                                                         \n",
            "+---------------------------------------------------------------------------------------+\n",
            "| Processes:                                                                            |\n",
            "|  GPU   GI   CI        PID   Type   Process name                            GPU Memory |\n",
            "|        ID   ID                                                             Usage      |\n",
            "|=======================================================================================|\n",
            "|  No running processes found                                                           |\n",
            "+---------------------------------------------------------------------------------------+\n"
          ]
        }
      ],
      "source": [
        "# Check if we're using a GPU\n",
        "!nvidia-smi"
      ]
    },
    {
      "cell_type": "markdown",
      "source": [
        "## Creating helper functions\n",
        "\n",
        "In previous notebooks, we've created helper function. Now we could rewrite them all, however this is tedious.\n",
        "\n",
        "So, it's a good idea to put all the functional you'll want to use again in a script you can download and import into your notebooks (or elsewhere).\n",
        "\n",
        "We've done this for some of the functions we've used previously here: https://raw.githubusercontent.com/mrdbourke/tensorflow-deep-learning/main/extras/helper_functions.py"
      ],
      "metadata": {
        "id": "GyefH_tPpYMd"
      }
    },
    {
      "cell_type": "code",
      "source": [
        "!wget https://raw.githubusercontent.com/mrdbourke/tensorflow-deep-learning/main/extras/helper_functions.py"
      ],
      "metadata": {
        "colab": {
          "base_uri": "https://localhost:8080/"
        },
        "id": "jw0v7HK5ptz9",
        "outputId": "38a99c88-7f75-4026-e8be-708929a0a5a7"
      },
      "execution_count": 2,
      "outputs": [
        {
          "output_type": "stream",
          "name": "stdout",
          "text": [
            "--2024-06-23 15:12:26--  https://raw.githubusercontent.com/mrdbourke/tensorflow-deep-learning/main/extras/helper_functions.py\n",
            "Resolving raw.githubusercontent.com (raw.githubusercontent.com)... 185.199.108.133, 185.199.109.133, 185.199.110.133, ...\n",
            "Connecting to raw.githubusercontent.com (raw.githubusercontent.com)|185.199.108.133|:443... connected.\n",
            "HTTP request sent, awaiting response... 200 OK\n",
            "Length: 10246 (10K) [text/plain]\n",
            "Saving to: ‘helper_functions.py’\n",
            "\n",
            "helper_functions.py 100%[===================>]  10.01K  --.-KB/s    in 0s      \n",
            "\n",
            "2024-06-23 15:12:26 (102 MB/s) - ‘helper_functions.py’ saved [10246/10246]\n",
            "\n"
          ]
        }
      ]
    },
    {
      "cell_type": "code",
      "source": [
        "# Import helper functions we're going to use in this notebook\n",
        "from helper_functions import create_tensorboard_callback, plot_loss_curves, unzip_data, walk_through_dir"
      ],
      "metadata": {
        "id": "dR-2J6VEp9kO"
      },
      "execution_count": 3,
      "outputs": []
    },
    {
      "cell_type": "markdown",
      "source": [
        "> **NOTE:** If youre running this notebook in Google Colab, when it times out Colab will delete `helper_functions.py`, so you'll have to redownload it if you want access to your helper functions."
      ],
      "metadata": {
        "id": "BC4OlBgrqtIU"
      }
    },
    {
      "cell_type": "markdown",
      "source": [
        "## Let's get some data\n",
        "\n",
        "This time we're going to see how we can use the pretrained models within `tf.keras.applications` and apply them to our own problem (recognizing images of food)."
      ],
      "metadata": {
        "id": "uesS5sV7qn-W"
      }
    },
    {
      "cell_type": "code",
      "source": [
        "# Get 10% of training data of 10 classes of Food101\n",
        "!wget https://storage.googleapis.com/ztm_tf_course/food_vision/10_food_classes_10_percent.zip\n",
        "\n",
        "unzip_data(\"10_food_classes_10_percent.zip\")"
      ],
      "metadata": {
        "colab": {
          "base_uri": "https://localhost:8080/"
        },
        "id": "pJUgmyDwrPQx",
        "outputId": "2d9d4ef0-f238-4239-a698-5b6ace54611a"
      },
      "execution_count": 6,
      "outputs": [
        {
          "output_type": "stream",
          "name": "stdout",
          "text": [
            "--2024-06-23 15:22:21--  https://storage.googleapis.com/ztm_tf_course/food_vision/10_food_classes_10_percent.zip\n",
            "Resolving storage.googleapis.com (storage.googleapis.com)... 74.125.130.207, 74.125.68.207, 64.233.170.207, ...\n",
            "Connecting to storage.googleapis.com (storage.googleapis.com)|74.125.130.207|:443... connected.\n",
            "HTTP request sent, awaiting response... 200 OK\n",
            "Length: 168546183 (161M) [application/zip]\n",
            "Saving to: ‘10_food_classes_10_percent.zip’\n",
            "\n",
            "10_food_classes_10_ 100%[===================>] 160.74M  22.8MB/s    in 8.3s    \n",
            "\n",
            "2024-06-23 15:22:29 (19.3 MB/s) - ‘10_food_classes_10_percent.zip’ saved [168546183/168546183]\n",
            "\n"
          ]
        }
      ]
    },
    {
      "cell_type": "code",
      "source": [
        "# Check out how many images and subdiectroies are in our dataset\n",
        "walk_through_dir(\"10_food_classes_10_percent\")"
      ],
      "metadata": {
        "colab": {
          "base_uri": "https://localhost:8080/"
        },
        "id": "ecFbNVX_sGJl",
        "outputId": "1a85afbf-2cac-443a-e756-cb16c2b728ba"
      },
      "execution_count": 7,
      "outputs": [
        {
          "output_type": "stream",
          "name": "stdout",
          "text": [
            "There are 2 directories and 0 images in '10_food_classes_10_percent'.\n",
            "There are 10 directories and 0 images in '10_food_classes_10_percent/test'.\n",
            "There are 0 directories and 250 images in '10_food_classes_10_percent/test/ramen'.\n",
            "There are 0 directories and 250 images in '10_food_classes_10_percent/test/hamburger'.\n",
            "There are 0 directories and 250 images in '10_food_classes_10_percent/test/sushi'.\n",
            "There are 0 directories and 250 images in '10_food_classes_10_percent/test/fried_rice'.\n",
            "There are 0 directories and 250 images in '10_food_classes_10_percent/test/grilled_salmon'.\n",
            "There are 0 directories and 250 images in '10_food_classes_10_percent/test/steak'.\n",
            "There are 0 directories and 250 images in '10_food_classes_10_percent/test/chicken_curry'.\n",
            "There are 0 directories and 250 images in '10_food_classes_10_percent/test/ice_cream'.\n",
            "There are 0 directories and 250 images in '10_food_classes_10_percent/test/pizza'.\n",
            "There are 0 directories and 250 images in '10_food_classes_10_percent/test/chicken_wings'.\n",
            "There are 10 directories and 0 images in '10_food_classes_10_percent/train'.\n",
            "There are 0 directories and 75 images in '10_food_classes_10_percent/train/ramen'.\n",
            "There are 0 directories and 75 images in '10_food_classes_10_percent/train/hamburger'.\n",
            "There are 0 directories and 75 images in '10_food_classes_10_percent/train/sushi'.\n",
            "There are 0 directories and 75 images in '10_food_classes_10_percent/train/fried_rice'.\n",
            "There are 0 directories and 75 images in '10_food_classes_10_percent/train/grilled_salmon'.\n",
            "There are 0 directories and 75 images in '10_food_classes_10_percent/train/steak'.\n",
            "There are 0 directories and 75 images in '10_food_classes_10_percent/train/chicken_curry'.\n",
            "There are 0 directories and 75 images in '10_food_classes_10_percent/train/ice_cream'.\n",
            "There are 0 directories and 75 images in '10_food_classes_10_percent/train/pizza'.\n",
            "There are 0 directories and 75 images in '10_food_classes_10_percent/train/chicken_wings'.\n"
          ]
        }
      ]
    },
    {
      "cell_type": "code",
      "source": [
        "# Create training and test directory paths\n",
        "train_dir = \"10_food_classes_10_percent/train\"\n",
        "test_dir = \"10_food_classes_10_percent/test\""
      ],
      "metadata": {
        "id": "Q3MvcplnsdYs"
      },
      "execution_count": 8,
      "outputs": []
    },
    {
      "cell_type": "code",
      "source": [
        "import tensorflow as tf\n",
        "IMG_SIZE = (224, 224)\n",
        "BATCH_SIZE = 32\n",
        "train_data_10_percent = tf.keras.preprocessing.image_dataset_from_directory(directory=train_dir,\n",
        "                                                                            image_size=IMG_SIZE,\n",
        "                                                                            label_mode=\"categorical\",\n",
        "                                                                            batch_size=BATCH_SIZE)\n",
        "test_data = tf.keras.preprocessing.image_dataset_from_directory(directory=test_dir,\n",
        "                                                                image_size=IMG_SIZE,\n",
        "                                                                label_mode=\"categorical\",\n",
        "                                                                batch_size=BATCH_SIZE)"
      ],
      "metadata": {
        "colab": {
          "base_uri": "https://localhost:8080/"
        },
        "id": "Xn2wPfv9supz",
        "outputId": "eb83a1a5-dbd8-4f8c-e996-62f7d16db49d"
      },
      "execution_count": 9,
      "outputs": [
        {
          "output_type": "stream",
          "name": "stdout",
          "text": [
            "Found 750 files belonging to 10 classes.\n",
            "Found 2500 files belonging to 10 classes.\n"
          ]
        }
      ]
    },
    {
      "cell_type": "code",
      "source": [
        "train_data_10_percent"
      ],
      "metadata": {
        "colab": {
          "base_uri": "https://localhost:8080/"
        },
        "id": "L6xnQmMjuKQa",
        "outputId": "c97c2551-123c-47ff-fdfb-5186c751f944"
      },
      "execution_count": 10,
      "outputs": [
        {
          "output_type": "execute_result",
          "data": {
            "text/plain": [
              "<_PrefetchDataset element_spec=(TensorSpec(shape=(None, 224, 224, 3), dtype=tf.float32, name=None), TensorSpec(shape=(None, 10), dtype=tf.float32, name=None))>"
            ]
          },
          "metadata": {},
          "execution_count": 10
        }
      ]
    },
    {
      "cell_type": "code",
      "source": [
        "test_data"
      ],
      "metadata": {
        "colab": {
          "base_uri": "https://localhost:8080/"
        },
        "id": "TmlE0MlMuNE_",
        "outputId": "95e83fbd-a71d-47db-b590-95a9cd5568e6"
      },
      "execution_count": 11,
      "outputs": [
        {
          "output_type": "execute_result",
          "data": {
            "text/plain": [
              "<_PrefetchDataset element_spec=(TensorSpec(shape=(None, 224, 224, 3), dtype=tf.float32, name=None), TensorSpec(shape=(None, 10), dtype=tf.float32, name=None))>"
            ]
          },
          "metadata": {},
          "execution_count": 11
        }
      ]
    },
    {
      "cell_type": "code",
      "source": [
        "# Check out the class names of our dataset\n",
        "train_data_10_percent.class_names"
      ],
      "metadata": {
        "colab": {
          "base_uri": "https://localhost:8080/"
        },
        "id": "Uc9WkVd-uT8i",
        "outputId": "2c7c51d4-d758-4c02-9227-229d8b8df070"
      },
      "execution_count": 12,
      "outputs": [
        {
          "output_type": "execute_result",
          "data": {
            "text/plain": [
              "['chicken_curry',\n",
              " 'chicken_wings',\n",
              " 'fried_rice',\n",
              " 'grilled_salmon',\n",
              " 'hamburger',\n",
              " 'ice_cream',\n",
              " 'pizza',\n",
              " 'ramen',\n",
              " 'steak',\n",
              " 'sushi']"
            ]
          },
          "metadata": {},
          "execution_count": 12
        }
      ]
    },
    {
      "cell_type": "code",
      "source": [
        "# See an example of a batch of data\n",
        "for images, labels in train_data_10_percent.take(1):\n",
        "  print(images, labels)"
      ],
      "metadata": {
        "colab": {
          "base_uri": "https://localhost:8080/"
        },
        "id": "k7jMJqbBuxKV",
        "outputId": "0c59f94c-bee5-4945-d4db-eb70aa3b9ae6"
      },
      "execution_count": 13,
      "outputs": [
        {
          "output_type": "stream",
          "name": "stdout",
          "text": [
            "tf.Tensor(\n",
            "[[[[ 82.7905     59.790497   27.790497 ]\n",
            "   [ 84.64286    61.64286    29.373407 ]\n",
            "   [ 89.91709    66.702805   32.274235 ]\n",
            "   ...\n",
            "   [110.86379   127.07806   139.43527  ]\n",
            "   [112.33648   128.33647   141.33647  ]\n",
            "   [116.830666  129.83067   145.83067  ]]\n",
            "\n",
            "  [[ 80.6832     56.81266    25.247927 ]\n",
            "   [ 86.8192     63.38393    29.464605 ]\n",
            "   [ 90.641106   67.08482    31.972258 ]\n",
            "   ...\n",
            "   [114.547806  130.66881   143.3058   ]\n",
            "   [113.9243    129.9243    143.79483  ]\n",
            "   [116.77876   129.77876   145.77876  ]]\n",
            "\n",
            "  [[ 84.94372    59.8919     27.751913 ]\n",
            "   [ 96.275505   72.171875   38.223694 ]\n",
            "   [ 97.60332    73.60332    37.603313 ]\n",
            "   ...\n",
            "   [116.57001   132.57      145.57     ]\n",
            "   [116.76468   132.76468   146.31378  ]\n",
            "   [119.64282   133.36827   147.19193  ]]\n",
            "\n",
            "  ...\n",
            "\n",
            "  [[162.24782   170.24782   183.24782  ]\n",
            "   [161.88936   169.88936   182.88936  ]\n",
            "   [164.19193   174.19193   186.19193  ]\n",
            "   ...\n",
            "   [171.79968   189.91733   201.42998  ]\n",
            "   [167.07144   183.07144   196.07144  ]\n",
            "   [169.81921   184.36829   197.36829  ]]\n",
            "\n",
            "  [[158.94197   166.94197   179.94197  ]\n",
            "   [162.26976   170.26976   183.26976  ]\n",
            "   [166.77231   176.77231   187.64285  ]\n",
            "   ...\n",
            "   [172.21426   190.64279   202.       ]\n",
            "   [167.63617   183.63617   196.63617  ]\n",
            "   [167.44112   183.44112   196.44112  ]]\n",
            "\n",
            "  [[157.88824   166.74313   181.45291  ]\n",
            "   [165.02434   174.73412   186.87923  ]\n",
            "   [170.20752   179.35263   188.49774  ]\n",
            "   ...\n",
            "   [171.66475   190.09328   201.81683  ]\n",
            "   [167.0944    183.0944    197.80418  ]\n",
            "   [165.02632   181.02632   195.7361   ]]]\n",
            "\n",
            "\n",
            " [[[ 65.41327    50.239796   49.82653  ]\n",
            "   [106.28572    95.071434   93.14286  ]\n",
            "   [154.62245   145.62245   140.19388  ]\n",
            "   ...\n",
            "   [157.51024   106.0817    124.86744  ]\n",
            "   [164.35725   113.35725   132.35725  ]\n",
            "   [175.1429    126.14289   145.1429   ]]\n",
            "\n",
            "  [[ 62.05102    51.571426   49.59694  ]\n",
            "   [ 99.693886   92.408165   86.551025 ]\n",
            "   [151.33673   146.52551   137.51021  ]\n",
            "   ...\n",
            "   [149.04082    96.04082   116.04082  ]\n",
            "   [147.59186    95.591866  117.591866 ]\n",
            "   [149.19382    97.19381   119.19381  ]]\n",
            "\n",
            "  [[ 56.97959    51.418365   45.418365 ]\n",
            "   [ 91.09695    87.95409    81.02551  ]\n",
            "   [153.59184   151.40306   141.59183  ]\n",
            "   ...\n",
            "   [152.64285    98.85714   123.28571  ]\n",
            "   [150.7296     96.94389   121.37247  ]\n",
            "   [150.15297    96.367256  120.79583  ]]\n",
            "\n",
            "  ...\n",
            "\n",
            "  [[164.78574   166.78574   155.78574  ]\n",
            "   [160.41324   162.41324   151.41324  ]\n",
            "   [152.21425   153.78568   142.99995  ]\n",
            "   ...\n",
            "   [136.16835   126.16836   116.16836  ]\n",
            "   [132.        122.        112.       ]\n",
            "   [130.07138   120.07138   110.07138  ]]\n",
            "\n",
            "  [[155.66837   157.66837   146.66837  ]\n",
            "   [154.07652   156.07652   145.07652  ]\n",
            "   [150.21428   151.78572   141.       ]\n",
            "   ...\n",
            "   [136.35709   126.357086  116.357086 ]\n",
            "   [131.07144   121.07144   111.07144  ]\n",
            "   [131.64282   121.64282   111.64282  ]]\n",
            "\n",
            "  [[155.92847   157.92847   146.92847  ]\n",
            "   [153.76016   155.76016   144.76016  ]\n",
            "   [150.78575   152.35718   141.57146  ]\n",
            "   ...\n",
            "   [134.13774   124.13773   114.13773  ]\n",
            "   [131.14288   121.14288   111.14288  ]\n",
            "   [132.05605   122.056046  112.056046 ]]]\n",
            "\n",
            "\n",
            " [[[103.89636   117.89636   154.89636  ]\n",
            "   [114.14541   128.1454    165.1454   ]\n",
            "   [ 90.75414   104.539856  144.18272  ]\n",
            "   ...\n",
            "   [ 71.32152    53.367115   54.661476 ]\n",
            "   [ 63.00408    49.272297   53.87337  ]\n",
            "   [ 42.257336   32.803017   38.093163 ]]\n",
            "\n",
            "  [[ 95.80102   109.80102   146.80103  ]\n",
            "   [ 99.10651   113.10651   150.1065   ]\n",
            "   [ 82.09025    95.87596   135.51881  ]\n",
            "   ...\n",
            "   [ 61.75172    49.451702   49.270603 ]\n",
            "   [ 51.037117   42.537476   45.354107 ]\n",
            "   [ 40.21501    35.50519    39.38912  ]]\n",
            "\n",
            "  [[ 90.22672   104.22672   141.22672  ]\n",
            "   [ 98.8294    112.8294    149.82939  ]\n",
            "   [ 86.84088   100.626595  140.26945  ]\n",
            "   ...\n",
            "   [ 60.012352   52.68809    52.281906 ]\n",
            "   [ 42.78757    40.511776   41.566315 ]\n",
            "   [ 49.6567     52.71027    55.473663 ]]\n",
            "\n",
            "  ...\n",
            "\n",
            "  [[ 52.12051    68.12051   119.12051  ]\n",
            "   [ 53.84024    69.84024   120.84024  ]\n",
            "   [ 53.814075   69.81407   120.3855   ]\n",
            "   ...\n",
            "   [ 23.36317     5.836438   17.599804 ]\n",
            "   [ 20.67502     4.725736   15.708831 ]\n",
            "   [ 20.883911    5.593811   16.357178 ]]\n",
            "\n",
            "  [[ 50.415157   66.41515   117.41515  ]\n",
            "   [ 52.911015   68.91102   119.91102  ]\n",
            "   [ 52.2723     68.2723    118.84373  ]\n",
            "   ...\n",
            "   [ 21.058014    5.058014   16.058014 ]\n",
            "   [ 18.107738    4.9461308  15.       ]\n",
            "   [ 20.299164    7.299164   17.299164 ]]\n",
            "\n",
            "  [[ 50.12595    66.125946  117.125946 ]\n",
            "   [ 53.529675   69.52968   120.52968  ]\n",
            "   [ 51.428574   67.42857   118.       ]\n",
            "   ...\n",
            "   [ 21.          5.         16.       ]\n",
            "   [ 18.11769     5.1176887  15.117688 ]\n",
            "   [ 22.361694    9.361694   19.361694 ]]]\n",
            "\n",
            "\n",
            " ...\n",
            "\n",
            "\n",
            " [[[  3.4225128   7.422513    6.422513 ]\n",
            "   [  3.9285717   7.9285717   8.928572 ]\n",
            "   [  2.2142859   3.2142859   7.214286 ]\n",
            "   ...\n",
            "   [ 41.6027     25.602701   25.602701 ]\n",
            "   [ 39.687157   23.687157   23.687157 ]\n",
            "   [ 37.         23.         22.       ]]\n",
            "\n",
            "  [[  4.067283    8.067283    7.067283 ]\n",
            "   [  3.9285717   7.9285717   8.928572 ]\n",
            "   [  1.4690692   3.763393    7.3319516]\n",
            "   ...\n",
            "   [ 40.668083   24.668083   24.668083 ]\n",
            "   [ 39.477665   23.477665   23.477665 ]\n",
            "   [ 37.549107   23.549107   22.549107 ]]\n",
            "\n",
            "  [[  4.357143    8.357142    7.357143 ]\n",
            "   [  3.9285717   7.9285717   8.928572 ]\n",
            "   [  0.6610335   4.018176    7.232462 ]\n",
            "   ...\n",
            "   [ 40.571472   24.571472   24.571472 ]\n",
            "   [ 40.84374    24.843737   24.843737 ]\n",
            "   [ 39.24206    25.24206    24.24206  ]]\n",
            "\n",
            "  ...\n",
            "\n",
            "  [[188.64891   181.81859   153.73375  ]\n",
            "   [189.49702   182.50914   153.50308  ]\n",
            "   [189.09914   183.09914   150.53726  ]\n",
            "   ...\n",
            "   [ 44.93545   151.30945   202.04204  ]\n",
            "   [ 71.63345   169.81047   213.70471  ]\n",
            "   [152.31319   244.98631   254.69698  ]]\n",
            "\n",
            "  [[185.46138   180.91228   151.91228  ]\n",
            "   [180.56087   174.60551   145.08319  ]\n",
            "   [187.11638   180.82652   146.92314  ]\n",
            "   ...\n",
            "   [ 36.082916  141.3856    191.79893  ]\n",
            "   [ 67.50793   171.36026   210.80302  ]\n",
            "   [149.59761   242.56535   252.71663  ]]\n",
            "\n",
            "  [[182.60876   181.05972   151.24274  ]\n",
            "   [176.40242   173.06255   142.23248  ]\n",
            "   [183.58826   176.9454    143.15968  ]\n",
            "   ...\n",
            "   [ 38.70792   143.07224   192.85797  ]\n",
            "   [ 63.795227  172.98747   209.33934  ]\n",
            "   [152.79205   245.1369    253.17685  ]]]\n",
            "\n",
            "\n",
            " [[[ 56.77041    40.77041     6.770408 ]\n",
            "   [ 56.07143    41.07143     8.071428 ]\n",
            "   [ 57.         42.          9.       ]\n",
            "   ...\n",
            "   [ 97.        113.        112.       ]\n",
            "   [ 96.07141   112.07141   111.07141  ]\n",
            "   [ 95.77041   111.77041   108.77041  ]]\n",
            "\n",
            "  [[ 58.19388    40.40306     9.193878 ]\n",
            "   [ 57.933674   41.0051     10.790817 ]\n",
            "   [ 58.785713   41.801018   11.755102 ]\n",
            "   ...\n",
            "   [ 97.785706  113.785706  112.785706 ]\n",
            "   [ 96.93367   112.93367   111.93367  ]\n",
            "   [ 96.        112.        109.       ]]\n",
            "\n",
            "  [[ 61.         40.         13.       ]\n",
            "   [ 60.285717   40.07143    13.071428 ]\n",
            "   [ 61.382652   41.785713   12.933674 ]\n",
            "   ...\n",
            "   [ 98.33673   114.        113.168365 ]\n",
            "   [ 97.07141   113.07141   112.07141  ]\n",
            "   [ 97.        113.        110.       ]]\n",
            "\n",
            "  ...\n",
            "\n",
            "  [[101.214264   90.214264   59.499977 ]\n",
            "   [102.015305   92.08673    56.801018 ]\n",
            "   [102.214264   93.214264   54.214264 ]\n",
            "   ...\n",
            "   [146.16835   138.16835   117.16835  ]\n",
            "   [145.27037   137.27037   116.27037  ]\n",
            "   [145.21426   137.21426   116.214264 ]]\n",
            "\n",
            "  [[ 98.92856    87.92856    57.21427  ]\n",
            "   [ 99.92856    89.999985   54.71427  ]\n",
            "   [ 99.92856    90.92856    51.92856  ]\n",
            "   ...\n",
            "   [144.71426   136.71426   115.714264 ]\n",
            "   [142.99997   134.99997   113.99997  ]\n",
            "   [142.92856   134.92856   113.92856  ]]\n",
            "\n",
            "  [[ 99.64282    85.99996    55.928535 ]\n",
            "   [ 99.668335   86.73976    52.45405  ]\n",
            "   [100.         88.         50.       ]\n",
            "   ...\n",
            "   [143.42853   135.42853   114.42853  ]\n",
            "   [141.71423   133.71423   112.71423  ]\n",
            "   [140.77039   132.77039   111.770386 ]]]\n",
            "\n",
            "\n",
            " [[[155.85715    95.85715    43.85714  ]\n",
            "   [164.59694   104.71429    57.16837  ]\n",
            "   [174.91837   116.34694    72.28571  ]\n",
            "   ...\n",
            "   [182.1428     78.50002    62.142815 ]\n",
            "   [174.40303    82.73982    59.642868 ]\n",
            "   [168.40303    90.41842    62.7041   ]]\n",
            "\n",
            "  [[145.33163    82.47449    28.47449  ]\n",
            "   [147.4847     84.55612    30.770405 ]\n",
            "   [153.64285    92.158165   41.22959  ]\n",
            "   ...\n",
            "   [173.1836     76.28049    57.59679  ]\n",
            "   [158.0663     66.352066   43.280624 ]\n",
            "   [159.92874    79.28592    52.285923 ]]\n",
            "\n",
            "  [[147.07654    80.64796    20.433674 ]\n",
            "   [142.39795    76.39796    16.183672 ]\n",
            "   [138.97958    74.36225    15.887756 ]\n",
            "   ...\n",
            "   [174.81618    96.79066    71.576324 ]\n",
            "   [169.35202    94.224495   65.51019  ]\n",
            "   [160.061      88.984566   58.98453  ]]\n",
            "\n",
            "  ...\n",
            "\n",
            "  [[174.35207    98.35207    46.35207  ]\n",
            "   [170.21428    94.21429    42.214287 ]\n",
            "   [173.38268    97.168396   44.739822 ]\n",
            "   ...\n",
            "   [160.         93.785736   36.428528 ]\n",
            "   [159.78574    93.785736   35.785736 ]\n",
            "   [169.63264   100.632645   43.632645 ]]\n",
            "\n",
            "  [[172.95406    96.954056   44.954063 ]\n",
            "   [169.98979    93.98979    41.989796 ]\n",
            "   [173.41327    97.198975   44.770405 ]\n",
            "   ...\n",
            "   [159.15813    92.94386    35.58666  ]\n",
            "   [158.20923    92.20922    34.20922  ]\n",
            "   [169.71445   100.71445    43.714447 ]]\n",
            "\n",
            "  [[170.42857    94.42857    42.42857  ]\n",
            "   [172.04596    96.04595    44.04595  ]\n",
            "   [173.78572    97.57143    45.142857 ]\n",
            "   ...\n",
            "   [158.01012    91.79585    34.438644 ]\n",
            "   [158.04593    92.04592    34.045925 ]\n",
            "   [165.71436    96.714355   39.714355 ]]]], shape=(32, 224, 224, 3), dtype=float32) tf.Tensor(\n",
            "[[0. 0. 1. 0. 0. 0. 0. 0. 0. 0.]\n",
            " [0. 0. 0. 0. 1. 0. 0. 0. 0. 0.]\n",
            " [0. 0. 0. 0. 0. 1. 0. 0. 0. 0.]\n",
            " [0. 0. 1. 0. 0. 0. 0. 0. 0. 0.]\n",
            " [1. 0. 0. 0. 0. 0. 0. 0. 0. 0.]\n",
            " [0. 0. 0. 0. 0. 0. 1. 0. 0. 0.]\n",
            " [0. 0. 0. 0. 0. 0. 0. 0. 0. 1.]\n",
            " [0. 0. 0. 1. 0. 0. 0. 0. 0. 0.]\n",
            " [0. 0. 0. 0. 0. 0. 1. 0. 0. 0.]\n",
            " [0. 0. 0. 1. 0. 0. 0. 0. 0. 0.]\n",
            " [0. 0. 0. 0. 0. 0. 0. 0. 0. 1.]\n",
            " [0. 0. 0. 1. 0. 0. 0. 0. 0. 0.]\n",
            " [0. 0. 0. 0. 0. 0. 0. 1. 0. 0.]\n",
            " [0. 0. 0. 0. 0. 0. 0. 1. 0. 0.]\n",
            " [0. 0. 0. 0. 0. 1. 0. 0. 0. 0.]\n",
            " [0. 0. 0. 0. 0. 0. 1. 0. 0. 0.]\n",
            " [0. 0. 0. 0. 1. 0. 0. 0. 0. 0.]\n",
            " [0. 0. 0. 0. 1. 0. 0. 0. 0. 0.]\n",
            " [0. 0. 0. 0. 0. 1. 0. 0. 0. 0.]\n",
            " [1. 0. 0. 0. 0. 0. 0. 0. 0. 0.]\n",
            " [0. 1. 0. 0. 0. 0. 0. 0. 0. 0.]\n",
            " [0. 0. 0. 0. 1. 0. 0. 0. 0. 0.]\n",
            " [0. 0. 0. 1. 0. 0. 0. 0. 0. 0.]\n",
            " [0. 1. 0. 0. 0. 0. 0. 0. 0. 0.]\n",
            " [1. 0. 0. 0. 0. 0. 0. 0. 0. 0.]\n",
            " [0. 0. 0. 0. 0. 0. 0. 0. 1. 0.]\n",
            " [0. 0. 0. 0. 0. 0. 0. 1. 0. 0.]\n",
            " [0. 1. 0. 0. 0. 0. 0. 0. 0. 0.]\n",
            " [0. 0. 0. 1. 0. 0. 0. 0. 0. 0.]\n",
            " [0. 0. 0. 0. 0. 0. 0. 1. 0. 0.]\n",
            " [0. 1. 0. 0. 0. 0. 0. 0. 0. 0.]\n",
            " [0. 0. 0. 0. 0. 0. 0. 0. 1. 0.]], shape=(32, 10), dtype=float32)\n"
          ]
        }
      ]
    },
    {
      "cell_type": "code",
      "source": [],
      "metadata": {
        "id": "tgKNs133vAZz"
      },
      "execution_count": null,
      "outputs": []
    }
  ]
}